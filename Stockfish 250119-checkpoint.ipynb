{
 "cells": [
  {
   "cell_type": "code",
   "execution_count": 121,
   "metadata": {},
   "outputs": [],
   "source": [
    "import time\n",
    "import csv\n",
    "import numpy as np\n",
    "import matplotlib.pyplot as plt\n",
    "import matplotlib\n",
    "from sage.rings.polynomial.toy_variety import coefficient_matrix\n",
    "import itertools\n",
    "from brial import *"
   ]
  },
  {
   "cell_type": "code",
   "execution_count": 122,
   "metadata": {},
   "outputs": [],
   "source": [
    "def moving_average(a, n) :\n",
    "    ret = np.cumsum(a, dtype=float)\n",
    "    ret[n:] = ret[n:] - ret[:-n]\n",
    "    return ret[n - 1:] / n"
   ]
  },
  {
   "cell_type": "code",
   "execution_count": 123,
   "metadata": {},
   "outputs": [],
   "source": [
    "def good_equation_generator(highest_degree, highest_terms, equations):\n",
    "    v = BooleanPolynomialVector()\n",
    "    l = [B.random_element(degree = highest_degree, terms = highest_terms) for _ in range(equations)]\n",
    "    _ = [v.append(e) for e in l]\n",
    "    output = []\n",
    "    seen = set()\n",
    "    for value in l:\n",
    "    # If value has not been encountered yet,\n",
    "    # ... add it to both list and set.\n",
    "        if value not in seen:\n",
    "            output.append(value)\n",
    "            seen.add(value)\n",
    "    return output"
   ]
  },
  {
   "cell_type": "code",
   "execution_count": 124,
   "metadata": {},
   "outputs": [],
   "source": [
    "def term_limit_finder():\n",
    "    iterations = NUMBER_OF_VARIABLES - DEGREE_GAP\n",
    "    term_gap = 0\n",
    "    for i in range(iterations):\n",
    "        add = binomial(NUMBER_OF_VARIABLES, i)\n",
    "        term_gap = term_gap + add\n",
    "    terms_limit = NUMBER_OF_ALL_POSSIBLE_MONOMIALS - term_gap\n",
    "    return terms_limit"
   ]
  },
  {
   "cell_type": "code",
   "execution_count": 125,
   "metadata": {},
   "outputs": [],
   "source": [
    "def equation_sorter(equation_list):\n",
    "    equation_leads = []\n",
    "    sorted_equation_list = []\n",
    "    B.inject_variables()\n",
    "    for i in range(len(equation_list)):\n",
    "        equation_leads.append(equation_list[i].lead())\n",
    "    for rr in range(len(equations_list)):\n",
    "        index_max = max(xrange(len(equation_leads)), key=equation_leads.__getitem__)\n",
    "        sorted_equation_list.append(equation_list[index_max])\n",
    "        equation_leads.pop(index_max)\n",
    "        equation_list.pop(index_max)\n",
    "    return sorted_equation_list"
   ]
  },
  {
   "cell_type": "code",
   "execution_count": 126,
   "metadata": {},
   "outputs": [],
   "source": [
    "def make_system_of_equations_consistent(equation_list):\n",
    "    MS = MatrixSpace(GF(2), len(equation_list), 1)\n",
    "    matrix_answers = MS()\n",
    "    x_values = []\n",
    "    ans = []\n",
    "    for i in range(NUMBER_OF_VARIABLES):\n",
    "        value = GF(2).random_element()\n",
    "        x_values.append(value)\n",
    "    for f in equation_list:\n",
    "        answer = f(*x_values)\n",
    "        ans.append(answer)\n",
    "    for i in range(len(equation_list)):\n",
    "        matrix_answers[i,0] = ans[i]\n",
    "        equation_list[i] = equation_list[i] + ans[i]\n",
    "    return equation_list, x_values, ans"
   ]
  },
  {
   "cell_type": "code",
   "execution_count": 127,
   "metadata": {},
   "outputs": [],
   "source": [
    "def append_equations_and_answers(matrix, matrix_rhs):\n",
    "    together_matrix = matrix.augment(matrix_rhs, subdivide = True)\n",
    "#     print together_matrix\n",
    "    return together_matrix"
   ]
  },
  {
   "cell_type": "code",
   "execution_count": 128,
   "metadata": {},
   "outputs": [],
   "source": [
    "def equation_solver_LU(equation_list):\n",
    "    time_start = time.time()\n",
    "    xvalues = B.ideal(equation_list).variety()\n",
    "    time_end = time.time()\n",
    "    time_taken = time_end - time_start\n",
    "    return xvalues, time_taken"
   ]
  },
  {
   "cell_type": "code",
   "execution_count": 129,
   "metadata": {},
   "outputs": [],
   "source": [
    "def coefficient_matrix_generator(equation_list):\n",
    "    A, v = Sequence(equation_list,B).coefficient_matrix()\n",
    "    return A,v"
   ]
  },
  {
   "cell_type": "code",
   "execution_count": 130,
   "metadata": {},
   "outputs": [],
   "source": [
    "def echelonize_the_matrix(the_matrix):\n",
    "    time_values = []\n",
    "    a = time.time()\n",
    "    echelonized_matrix = the_matrix.__copy__(); echelonized_matrix.echelonize()\n",
    "    d = time.time()\n",
    "    time_values.append(d-a)\n",
    "    return echelonized_matrix, time_values"
   ]
  },
  {
   "cell_type": "code",
   "execution_count": 131,
   "metadata": {},
   "outputs": [],
   "source": [
    "'''Equations and terms must be generated sufficiently large, else this will take a long time'''\n",
    "def make_system_of_equations_consistent(equation_list): \n",
    "    MS = MatrixSpace(GF(2), len(equation_list), 1)\n",
    "    matrix_answers = MS()\n",
    "    x_values = []\n",
    "    ans = []\n",
    "    for i in range(NUMBER_OF_VARIABLES):\n",
    "        value = GF(2).random_element()\n",
    "        x_values.append(value)\n",
    "    for f in equation_list:\n",
    "        answer = f(*x_values)\n",
    "        ans.append(answer)\n",
    "    for i in range(len(equation_list)):\n",
    "        matrix_answers[i,0] = ans[i]\n",
    "        equation_list[i] = equation_list[i] + ans[i]\n",
    "    return x_values, equation_list        "
   ]
  },
  {
   "cell_type": "code",
   "execution_count": 132,
   "metadata": {},
   "outputs": [],
   "source": [
    "def generate_monomials():\n",
    "    terms_limit = term_limit_finder()\n",
    "    monomial_list = []\n",
    "    v_1 = BooleanPolynomialVector()\n",
    "    l = [B.random_element(degree = DEGREE_GAP, terms = terms_limit) for _ in range(1)]\n",
    "    _ = [v_1.append(e) for e in l]\n",
    "    f = l[0]\n",
    "    for i in f:\n",
    "        monomial_list.append(i)\n",
    "    return monomial_list"
   ]
  },
  {
   "cell_type": "code",
   "execution_count": 133,
   "metadata": {},
   "outputs": [],
   "source": [
    "def eLU(equation_list):\n",
    "    coefficient_matrix, term_association = coefficient_matrix_generator(equation_list) \n",
    "    echelonized_matrix, time_echelonize = echelonize_the_matrix(coefficient_matrix)\n",
    "    reduced_equation_list = []\n",
    "    for i in echelonized_matrix*term_association:\n",
    "        reduced_equation_list.append(i[0])\n",
    "    xvalues_eLU, time_LU_echelonized = equation_solver_LU(reduced_equation_list)\n",
    "    return xvalues_eLU, time_LU_echelonized + time_echelonize[0]"
   ]
  },
  {
   "cell_type": "code",
   "execution_count": 134,
   "metadata": {},
   "outputs": [],
   "source": [
    "def matrix_generator_density(equation_list_input,monomial_list_input, DENSITY):\n",
    "    length_of_equations = len(equation_list_input)\n",
    "    length_of_monomials = len(monomial_list_input)\n",
    "    probability_mat = random_matrix(GF(2), length_of_equations, length_of_monomials, density = DENSITY)\n",
    "    return probability_mat\n",
    "\n",
    "def matrix_generator(equation_list_input,monomial_list_input):\n",
    "    length_of_equations = len(equation_list_input)\n",
    "    length_of_monomials = len(monomial_list_input)\n",
    "    probability_mat = random_matrix(GF(2), length_of_equations, length_of_monomials)\n",
    "    return probability_mat"
   ]
  },
  {
   "cell_type": "code",
   "execution_count": 135,
   "metadata": {},
   "outputs": [],
   "source": [
    "def XL_random_prob(matrix, equation_list_input, monomial_list_input):\n",
    "    new_equation_list = []\n",
    "    columns = matrix.ncols()\n",
    "    rows = matrix.nrows()\n",
    "    for i in range(rows):\n",
    "        for j in range(columns):\n",
    "            if matrix[i][j] == B(1):\n",
    "                monomial_to_mutiply = monomial_list_input[j]\n",
    "                equation_to_mutiply = equation_list_input[i]\n",
    "                new_equation = monomial_to_mutiply*equation_to_mutiply\n",
    "                new_equation_list.append(new_equation)\n",
    "    return new_equation_list "
   ]
  },
  {
   "cell_type": "code",
   "execution_count": 136,
   "metadata": {},
   "outputs": [],
   "source": [
    "def XLr_echelonized_LU(equation_list, density):\n",
    "    probability_matrix = matrix_generator_density(equation_list, monomial_list, density)\n",
    "    XL_equation_list = XL_random_prob(probability_matrix, equation_list, monomial_list)\n",
    "    matrixx, term_association = coefficient_matrix_generator(XL_equation_list)\n",
    "    echelonized_matrix, time_echelonize = echelonize_the_matrix(matrixx)\n",
    "    reduced_equation_list = []\n",
    "    for i in echelonized_matrix*term_association:\n",
    "        reduced_equation_list.append(i[0])\n",
    "    xvalues_echelonized_LU, time_LU_echelonized = equation_solver_LU(reduced_equation_list)\n",
    "    return xvalues_echelonized_LU, time_echelonize[0] + time_LU_echelonized"
   ]
  },
  {
   "cell_type": "code",
   "execution_count": 137,
   "metadata": {},
   "outputs": [],
   "source": [
    "def grob_basis(equation_list):\n",
    "    time_start = time.time()\n",
    "    grob_basis = B.ideal(equation_list).groebner_basis()\n",
    "    time_end = time.time()\n",
    "    time_taken = time_end - time_start\n",
    "    return grob_basis, time_taken"
   ]
  },
  {
   "cell_type": "code",
   "execution_count": 185,
   "metadata": {},
   "outputs": [],
   "source": [
    "def fixed_attack(equation_list):\n",
    "    B_sub = BooleanPolynomialRing(NUMBER_OF_VARIABLES-1,'x', order = 'degneglex')\n",
    "    var= B.gens()\n",
    "    var_sub = var[NUMBER_OF_VARIABLES-1]\n",
    "    time_start = time.time()\n",
    "    answer_list = []\n",
    "    for j in range(0,2):\n",
    "        new_equation_list = []\n",
    "        for f in equation_list:\n",
    "            equation = f.subs({var_sub: B(j)})\n",
    "            equation = B_sub(equation)\n",
    "            new_equation_list.append(equation)\n",
    "        answer = B_sub.ideal(new_equation_list).variety()\n",
    "        answer_list.append(answer)\n",
    "    time_end = time.time()\n",
    "    time_taken = time_end - time_start\n",
    "    return answer_list, time_taken"
   ]
  },
  {
   "cell_type": "code",
   "execution_count": 139,
   "metadata": {},
   "outputs": [],
   "source": [
    "def brute_force_attack(equation_list):\n",
    "    time_start = time.time()\n",
    "    x_values = []\n",
    "    for i in itertools.product([0,1], repeat=NUMBER_OF_VARIABLES):\n",
    "        answers = []\n",
    "        for f in equation_list:\n",
    "            sub = f(*i)\n",
    "            answers.append(sub)\n",
    "            if answers == [0] * len(equation_list):\n",
    "                x_values.append(i)\n",
    "    time_end = time.time()\n",
    "    time_taken = time_end - time_start\n",
    "    return time_taken, x_values"
   ]
  },
  {
   "cell_type": "code",
   "execution_count": 141,
   "metadata": {},
   "outputs": [],
   "source": [
    "def compare_systems(iterations):\n",
    "    time_grob_list = []\n",
    "    time_XLr_list = []\n",
    "    time_LU_list = []\n",
    "    time_eLU_list = []\n",
    "    time_fixed_XL_list = []\n",
    "    \n",
    "    for i in range(iterations):\n",
    "        \n",
    "        generated_equation_list = good_equation_generator(NUMBER_OF_VARIABLES-DEGREE_GAP, NUMBER_OF_VARIABLES, int(NUMBER_OF_VARIABLES^2/6))\n",
    "        xvalues, equation_list = make_system_of_equations_consistent(generated_equation_list)\n",
    "        \n",
    "        grob_ans, time_grob = grob_basis(equation_list)\n",
    "        print time.time()\n",
    "        XLr_ans, time_XLr = XLr_echelonized_LU(equation_list, 0.38)\n",
    "        print time.time()\n",
    "        LU_ans, time_LU = equation_solver_LU(equation_list)\n",
    "        print time.time()\n",
    "        eLU_ans, time_eLU = eLU(equation_list)\n",
    "        print time.time()\n",
    "        fixed_XL_ans, time_fixed_XL = fixed_XL_attack(equation_list)\n",
    "        print time.time()\n",
    "        \n",
    "        time_grob_list.append(time_grob)\n",
    "        time_XLr_list.append(time_XLr)\n",
    "        time_LU_list.append(time_LU)\n",
    "        time_eLU_list.append(time_eLU)\n",
    "        time_fixed_XL_list.append(time_fixed_XL)\n",
    "        print i\n",
    "        \n",
    "    average_grob = np.average(np.array(time_grob_list))\n",
    "    average_XLr = np.average(np.array(time_XLr_list))\n",
    "    average_LU = np.average(np.array(time_LU_list))\n",
    "    average_eLU = np.average(np.array(time_eLU_list))\n",
    "    average_fixed_XL = np.average(np.array(time_fixed_XL_list))\n",
    "    \n",
    "    return average_grob, average_XLr, average_LU, average_eLU, average_fixed_XL"
   ]
  },
  {
   "cell_type": "code",
   "execution_count": 191,
   "metadata": {},
   "outputs": [
    {
     "name": "stdout",
     "output_type": "stream",
     "text": [
      "CPU times: user 0 ns, sys: 0 ns, total: 0 ns\n",
      "Wall time: 8 ms\n",
      "CPU times: user 47 ms, sys: 32 ms, total: 79 ms\n",
      "Wall time: 111 ms\n",
      "CPU times: user 0 ns, sys: 0 ns, total: 0 ns\n",
      "Wall time: 0 ns\n"
     ]
    }
   ],
   "source": [
    "NUMBER_OF_VARIABLES = 17\n",
    "NUMBER_OF_ALL_POSSIBLE_MONOMIALS = 2^(NUMBER_OF_VARIABLES)\n",
    "B = BooleanPolynomialRing(NUMBER_OF_VARIABLES,'x', order = 'degrevlex')\n",
    "DEGREE_GAP = 1\n",
    "'''init'''\n",
    "%time monomial_list = generate_monomials()\n",
    "%time generated_equation_list = good_equation_generator(3, 2*NUMBER_OF_VARIABLES, NUMBER_OF_VARIABLES + 1)\n",
    "%time xvalues, consistent_equation_list = make_system_of_equations_consistent(generated_equation_list)"
   ]
  },
  {
   "cell_type": "code",
   "execution_count": 192,
   "metadata": {},
   "outputs": [
    {
     "data": {
      "text/plain": [
       "([[{x5: 0, x8: 1, x2: 0, x12: 1, x9: 1, x6: 0, x3: 0, x15: 1, x11: 0, x1: 0, x7: 0, x13: 1, x14: 0, x10: 0, x0: 1, x4: 0}],\n",
       "  [{x5: 0, x8: 0, x2: 0, x12: 1, x9: 0, x6: 0, x3: 0, x15: 0, x11: 1, x1: 0, x7: 0, x13: 0, x14: 1, x10: 0, x0: 0, x4: 1},\n",
       "   {x5: 1, x8: 0, x2: 1, x12: 0, x9: 1, x6: 0, x3: 0, x15: 0, x11: 1, x1: 1, x7: 1, x13: 1, x14: 1, x10: 0, x0: 0, x4: 0}]],\n",
       " 672.8652679920197)"
      ]
     },
     "execution_count": 192,
     "metadata": {},
     "output_type": "execute_result"
    }
   ],
   "source": [
    "fixed_attack(consistent_equation_list)"
   ]
  },
  {
   "cell_type": "code",
   "execution_count": 193,
   "metadata": {},
   "outputs": [
    {
     "data": {
      "text/plain": [
       "(114.33029985427856,\n",
       " [(0, 0, 0, 0, 1, 0, 0, 0, 0, 0, 0, 1, 1, 0, 1, 0, 1),\n",
       "  (0, 1, 1, 0, 0, 1, 0, 1, 0, 1, 0, 1, 0, 1, 1, 0, 1),\n",
       "  (1, 0, 0, 0, 0, 0, 0, 0, 1, 1, 0, 0, 1, 1, 0, 1, 0)])"
      ]
     },
     "execution_count": 193,
     "metadata": {},
     "output_type": "execute_result"
    }
   ],
   "source": [
    "brute_force_attack(consistent_equation_list)"
   ]
  }
 ],
 "metadata": {
  "kernelspec": {
   "display_name": "SageMath 8.5",
   "language": "",
   "name": "sagemath"
  },
  "language_info": {
   "codemirror_mode": {
    "name": "ipython",
    "version": 2
   },
   "file_extension": ".py",
   "mimetype": "text/x-python",
   "name": "python",
   "nbconvert_exporter": "python",
   "pygments_lexer": "ipython2",
   "version": "2.7.15"
  }
 },
 "nbformat": 4,
 "nbformat_minor": 2
}
